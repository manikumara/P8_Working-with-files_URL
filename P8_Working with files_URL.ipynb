{
 "cells": [
  {
   "cell_type": "code",
   "execution_count": 1,
   "metadata": {
    "ExecuteTime": {
     "end_time": "2021-10-06T19:07:39.362687Z",
     "start_time": "2021-10-06T19:07:39.344698Z"
    }
   },
   "outputs": [
    {
     "name": "stdout",
     "output_type": "stream",
     "text": [
      "Firstline\n",
      "1234\n",
      "Thirdline\n"
     ]
    }
   ],
   "source": [
    "fh = open(r'C:\\Users\\hp\\Desktop\\test.txt', 'r')\n",
    "print(fh.read())\n",
    "fh.close()"
   ]
  },
  {
   "cell_type": "code",
   "execution_count": 2,
   "metadata": {
    "ExecuteTime": {
     "end_time": "2021-10-06T19:07:39.551628Z",
     "start_time": "2021-10-06T19:07:39.368683Z"
    }
   },
   "outputs": [
    {
     "name": "stdout",
     "output_type": "stream",
     "text": [
      "Firstline\n",
      "\n"
     ]
    }
   ],
   "source": [
    "fh = open(r'C:\\Users\\hp\\Desktop\\test.txt', 'r')\n",
    "print(fh.readline())\n",
    "fh.close()"
   ]
  },
  {
   "cell_type": "code",
   "execution_count": 3,
   "metadata": {
    "ExecuteTime": {
     "end_time": "2021-10-06T19:07:39.660132Z",
     "start_time": "2021-10-06T19:07:39.559621Z"
    }
   },
   "outputs": [
    {
     "name": "stdout",
     "output_type": "stream",
     "text": [
      "['Firstline\\n', '1234\\n', 'Thirdline']\n"
     ]
    }
   ],
   "source": [
    "fh = open(r'C:\\Users\\hp\\Desktop\\test.txt', 'r')\n",
    "print(fh.readlines())\n",
    "fh.close()"
   ]
  },
  {
   "cell_type": "code",
   "execution_count": 4,
   "metadata": {
    "ExecuteTime": {
     "end_time": "2021-10-06T19:07:39.784954Z",
     "start_time": "2021-10-06T19:07:39.667129Z"
    }
   },
   "outputs": [],
   "source": [
    "# W - create the file and write the files\n",
    "# r - read the content from the file\n",
    "# w+ - create the file & write & read\n",
    "# r+ - read & write\n",
    "# a - append"
   ]
  },
  {
   "cell_type": "code",
   "execution_count": 5,
   "metadata": {
    "ExecuteTime": {
     "end_time": "2021-10-06T19:07:39.923466Z",
     "start_time": "2021-10-06T19:07:39.788924Z"
    }
   },
   "outputs": [],
   "source": [
    "# Web crwaling- web crawlers does continuously search for the content related to the keyword you gave, from the internet.\n",
    "# Web scraping- it is an extention to web crawling, for an identified URL-grab the content form the openinly websites and paste it in our desired location."
   ]
  },
  {
   "cell_type": "code",
   "execution_count": 6,
   "metadata": {
    "ExecuteTime": {
     "end_time": "2021-10-06T19:07:40.049089Z",
     "start_time": "2021-10-06T19:07:39.927457Z"
    }
   },
   "outputs": [],
   "source": [
    "#Run these before using BeautifulSoup and lxml for the firsttime \n",
    "#!pip install bs4\n",
    "#!pip install lxml"
   ]
  },
  {
   "cell_type": "code",
   "execution_count": 7,
   "metadata": {
    "ExecuteTime": {
     "end_time": "2021-10-06T19:07:40.235893Z",
     "start_time": "2021-10-06T19:07:40.054092Z"
    }
   },
   "outputs": [],
   "source": [
    "# if certification error comes use this\n",
    "import ssl\n",
    "ssl._create_default_https_context = ssl._create_unverified_context"
   ]
  },
  {
   "cell_type": "code",
   "execution_count": 13,
   "metadata": {
    "ExecuteTime": {
     "end_time": "2021-10-06T19:10:46.697955Z",
     "start_time": "2021-10-06T19:10:45.054693Z"
    }
   },
   "outputs": [
    {
     "name": "stdout",
     "output_type": "stream",
     "text": [
      "<title>Python Programming Tutorials</title>\n"
     ]
    }
   ],
   "source": [
    "import bs4 as bs\n",
    "import urllib.request\n",
    "sauce = urllib.request.urlopen(\"https://pythonprogramming.net/parsememcparseface/\").read()\n",
    "soup = bs.BeautifulSoup(sauce, 'lxml')\n",
    "print(soup.title)"
   ]
  },
  {
   "cell_type": "code",
   "execution_count": null,
   "metadata": {
    "ExecuteTime": {
     "end_time": "2021-10-06T19:02:50.752385Z",
     "start_time": "2021-10-06T19:02:50.738395Z"
    }
   },
   "outputs": [],
   "source": []
  },
  {
   "cell_type": "code",
   "execution_count": null,
   "metadata": {},
   "outputs": [],
   "source": []
  }
 ],
 "metadata": {
  "kernelspec": {
   "display_name": "Python 3",
   "language": "python",
   "name": "python3"
  },
  "language_info": {
   "codemirror_mode": {
    "name": "ipython",
    "version": 3
   },
   "file_extension": ".py",
   "mimetype": "text/x-python",
   "name": "python",
   "nbconvert_exporter": "python",
   "pygments_lexer": "ipython3",
   "version": "3.7.4"
  },
  "varInspector": {
   "cols": {
    "lenName": 16,
    "lenType": 16,
    "lenVar": 40
   },
   "kernels_config": {
    "python": {
     "delete_cmd_postfix": "",
     "delete_cmd_prefix": "del ",
     "library": "var_list.py",
     "varRefreshCmd": "print(var_dic_list())"
    },
    "r": {
     "delete_cmd_postfix": ") ",
     "delete_cmd_prefix": "rm(",
     "library": "var_list.r",
     "varRefreshCmd": "cat(var_dic_list()) "
    }
   },
   "types_to_exclude": [
    "module",
    "function",
    "builtin_function_or_method",
    "instance",
    "_Feature"
   ],
   "window_display": false
  }
 },
 "nbformat": 4,
 "nbformat_minor": 2
}
